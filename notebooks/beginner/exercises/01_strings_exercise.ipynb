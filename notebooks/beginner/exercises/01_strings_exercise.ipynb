{
 "cells": [
  {
   "cell_type": "markdown",
   "metadata": {},
   "source": [
    "# 1. Fill missing pieces\n",
    "Fill `____` pieces below to have correct values for `lower_cased`, `stripped` and `stripped_lower_case` variables."
   ]
  },
  {
   "cell_type": "code",
   "execution_count": 6,
   "metadata": {
    "ExecuteTime": {
     "end_time": "2024-03-31T11:50:18.598663700Z",
     "start_time": "2024-03-31T11:50:18.595664400Z"
    }
   },
   "outputs": [],
   "source": [
    "original = \" Python strings are COOL! \"\n",
    "lower_cased = original.lower()\n",
    "stripped = original.strip()\n",
    "stripped_lower_cased = original.strip().lower()"
   ]
  },
  {
   "cell_type": "markdown",
   "metadata": {},
   "source": [
    "Let's verify that the implementation is correct by running the cell below. `assert` will raise `AssertionError` if the statement is not true.  "
   ]
  },
  {
   "cell_type": "code",
   "execution_count": 7,
   "metadata": {
    "editable": false,
    "ExecuteTime": {
     "end_time": "2024-03-31T11:50:19.886127800Z",
     "start_time": "2024-03-31T11:50:19.880115Z"
    }
   },
   "outputs": [],
   "source": [
    "assert lower_cased == \" python strings are cool! \"\n",
    "assert stripped == \"Python strings are COOL!\"\n",
    "assert stripped_lower_cased == \"python strings are cool!\""
   ]
  },
  {
   "cell_type": "markdown",
   "metadata": {},
   "source": [
    "# 2. Prettify ugly string\n",
    "Use `str` methods to convert `ugly` to wanted `pretty`."
   ]
  },
  {
   "cell_type": "code",
   "execution_count": 9,
   "metadata": {
    "editable": false,
    "ExecuteTime": {
     "end_time": "2024-03-31T11:52:51.526451300Z",
     "start_time": "2024-03-31T11:52:51.520913700Z"
    }
   },
   "outputs": [],
   "source": [
    "ugly = \" tiTle of MY new Book\\n\\n\""
   ]
  },
  {
   "cell_type": "code",
   "execution_count": 12,
   "metadata": {
    "ExecuteTime": {
     "end_time": "2024-03-31T11:53:09.863992600Z",
     "start_time": "2024-03-31T11:53:09.855513200Z"
    }
   },
   "outputs": [],
   "source": [
    "# Your implementation:\n",
    "pretty = ugly.strip().lower().title()"
   ]
  },
  {
   "cell_type": "markdown",
   "metadata": {},
   "source": [
    "Let's make sure that it does what we want. `assert` raises [`AssertionError`](https://docs.python.org/3/library/exceptions.html#AssertionError) if the statement is not `True`."
   ]
  },
  {
   "cell_type": "code",
   "execution_count": 13,
   "metadata": {
    "editable": false,
    "ExecuteTime": {
     "end_time": "2024-03-31T11:53:11.624581700Z",
     "start_time": "2024-03-31T11:53:11.616212500Z"
    }
   },
   "outputs": [
    {
     "name": "stdout",
     "output_type": "stream",
     "text": [
      "pretty: Title Of My New Book\n"
     ]
    }
   ],
   "source": [
    "print(f\"pretty: {pretty}\")\n",
    "assert pretty == \"Title Of My New Book\""
   ]
  },
  {
   "cell_type": "markdown",
   "metadata": {},
   "source": [
    "# 3. Format string based on existing variables\n",
    "Create `sentence` by using `verb`, `language`, and `punctuation` and any other strings you may need."
   ]
  },
  {
   "cell_type": "code",
   "execution_count": 14,
   "metadata": {
    "editable": false,
    "ExecuteTime": {
     "end_time": "2024-03-31T11:54:12.244658100Z",
     "start_time": "2024-03-31T11:54:12.236887500Z"
    }
   },
   "outputs": [],
   "source": [
    "verb = \"is\"\n",
    "language = \"Python\"\n",
    "punctuation = \"!\""
   ]
  },
  {
   "cell_type": "code",
   "execution_count": 17,
   "metadata": {
    "ExecuteTime": {
     "end_time": "2024-03-31T11:54:47.323674700Z",
     "start_time": "2024-03-31T11:54:47.320426300Z"
    }
   },
   "outputs": [],
   "source": [
    "# Your implementation:\n",
    "sentence = f\"Learning {language} {verb} fun{punctuation}\""
   ]
  },
  {
   "cell_type": "code",
   "execution_count": 18,
   "metadata": {
    "editable": false,
    "ExecuteTime": {
     "end_time": "2024-03-31T11:54:48.809154900Z",
     "start_time": "2024-03-31T11:54:48.805253200Z"
    }
   },
   "outputs": [
    {
     "name": "stdout",
     "output_type": "stream",
     "text": [
      "sentence: Learning Python is fun!\n"
     ]
    }
   ],
   "source": [
    "print(f\"sentence: {sentence}\")\n",
    "assert sentence == \"Learning Python is fun!\""
   ]
  }
 ],
 "metadata": {
  "kernelspec": {
   "display_name": "Python 3",
   "language": "python",
   "name": "python3"
  },
  "language_info": {
   "codemirror_mode": {
    "name": "ipython",
    "version": 3
   },
   "file_extension": ".py",
   "mimetype": "text/x-python",
   "name": "python",
   "nbconvert_exporter": "python",
   "pygments_lexer": "ipython3",
   "version": "3.5.4"
  }
 },
 "nbformat": 4,
 "nbformat_minor": 1
}
