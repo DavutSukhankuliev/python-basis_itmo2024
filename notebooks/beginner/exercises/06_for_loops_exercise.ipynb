{
 "cells": [
  {
   "cell_type": "markdown",
   "metadata": {},
   "source": [
    "# 1. Fill the missing pieces\n",
    "Fill the `____` parts in the code below."
   ]
  },
  {
   "cell_type": "code",
   "execution_count": 1,
   "metadata": {
    "ExecuteTime": {
     "end_time": "2024-03-31T12:18:38.437830100Z",
     "start_time": "2024-03-31T12:18:38.430193100Z"
    }
   },
   "outputs": [],
   "source": [
    "words = [\"PYTHON\", \"JOHN\", \"chEEse\", \"hAm\", \"DOE\", \"123\"]\n",
    "upper_case_words = []\n",
    "\n",
    "for word in words:\n",
    "    if word.isupper():\n",
    "        upper_case_words.append(word)"
   ]
  },
  {
   "cell_type": "code",
   "execution_count": 2,
   "metadata": {
    "editable": false,
    "ExecuteTime": {
     "end_time": "2024-03-31T12:18:38.444203400Z",
     "start_time": "2024-03-31T12:18:38.437830100Z"
    }
   },
   "outputs": [],
   "source": [
    "assert upper_case_words == [\"PYTHON\", \"JOHN\", \"DOE\"]"
   ]
  },
  {
   "cell_type": "markdown",
   "metadata": {},
   "source": [
    "# 2. Calculate the sum of dict values\n",
    "Calculate the sum of the values in `magic_dict` by taking only into account numeric values (hint: see [isinstance](https://docs.python.org/3/library/functions.html#isinstance)). "
   ]
  },
  {
   "cell_type": "code",
   "execution_count": 11,
   "metadata": {
    "editable": false,
    "ExecuteTime": {
     "end_time": "2024-03-31T12:25:21.250391900Z",
     "start_time": "2024-03-31T12:25:21.239428500Z"
    }
   },
   "outputs": [],
   "source": [
    "magic_dict = dict(val1=44, val2=\"secret value\", val3=55.0, val4=1)"
   ]
  },
  {
   "cell_type": "code",
   "execution_count": 14,
   "metadata": {
    "ExecuteTime": {
     "end_time": "2024-03-31T12:26:06.445756400Z",
     "start_time": "2024-03-31T12:26:06.439304200Z"
    }
   },
   "outputs": [
    {
     "data": {
      "text/plain": "100.0"
     },
     "execution_count": 14,
     "metadata": {},
     "output_type": "execute_result"
    }
   ],
   "source": [
    "# Your implementation\n",
    "sum_of_values = 0\n",
    "\n",
    "for element in magic_dict:\n",
    "    if isinstance(magic_dict[element], float) or isinstance(magic_dict[element], int):\n",
    "        sum_of_values += magic_dict[element]\n",
    "        \n",
    "sum_of_values"
   ]
  },
  {
   "cell_type": "code",
   "execution_count": 15,
   "metadata": {
    "editable": false,
    "ExecuteTime": {
     "end_time": "2024-03-31T12:26:19.069650800Z",
     "start_time": "2024-03-31T12:26:19.061904600Z"
    }
   },
   "outputs": [],
   "source": [
    "assert sum_of_values == 100"
   ]
  },
  {
   "cell_type": "markdown",
   "metadata": {},
   "source": [
    "# 3. Create a list of strings based on a list of numbers\n",
    "The rules:\n",
    "* If the number is a multiple of five and odd, the string should be `'five odd'`\n",
    "* If the number is a multiple of five and even, the string should be `'five even'`\n",
    "* If the number is odd, the string is `'odd'`\n",
    "* If the number is even, the string is `'even'`"
   ]
  },
  {
   "cell_type": "code",
   "execution_count": 28,
   "metadata": {
    "editable": false,
    "ExecuteTime": {
     "end_time": "2024-03-31T13:43:16.308514600Z",
     "start_time": "2024-03-31T13:43:16.298084700Z"
    }
   },
   "outputs": [],
   "source": [
    "numbers = [1, 3, 4, 6, 81, 80, 100, 95]"
   ]
  },
  {
   "cell_type": "code",
   "execution_count": 29,
   "metadata": {
    "ExecuteTime": {
     "end_time": "2024-03-31T13:43:17.951498600Z",
     "start_time": "2024-03-31T13:43:17.936708100Z"
    }
   },
   "outputs": [],
   "source": [
    "# Your implementation\n",
    "my_list = []\n",
    "\n",
    "for number in numbers:\n",
    "    if number % 5 == 0 and number % 2 != 0:\n",
    "        my_list.append(\"five odd\")\n",
    "    elif number % 5 == 0 and number % 2 == 0:\n",
    "        my_list.append(\"five even\")\n",
    "    elif number % 2 != 0:\n",
    "        my_list.append(\"odd\")\n",
    "    elif number % 2 == 0:\n",
    "        my_list.append(\"even\")\n",
    "    else:\n",
    "        my_list.append(\"error\")\n",
    "        "
   ]
  },
  {
   "cell_type": "code",
   "execution_count": 30,
   "metadata": {
    "editable": false,
    "ExecuteTime": {
     "end_time": "2024-03-31T13:43:19.110843600Z",
     "start_time": "2024-03-31T13:43:19.098239200Z"
    }
   },
   "outputs": [],
   "source": [
    "assert my_list == [\n",
    "    \"odd\",\n",
    "    \"odd\",\n",
    "    \"even\",\n",
    "    \"even\",\n",
    "    \"odd\",\n",
    "    \"five even\",\n",
    "    \"five even\",\n",
    "    \"five odd\",\n",
    "]"
   ]
  }
 ],
 "metadata": {
  "kernelspec": {
   "display_name": "Python 3 (ipykernel)",
   "language": "python",
   "name": "python3"
  },
  "language_info": {
   "codemirror_mode": {
    "name": "ipython",
    "version": 3
   },
   "file_extension": ".py",
   "mimetype": "text/x-python",
   "name": "python",
   "nbconvert_exporter": "python",
   "pygments_lexer": "ipython3",
   "version": "3.11.0"
  }
 },
 "nbformat": 4,
 "nbformat_minor": 2
}
