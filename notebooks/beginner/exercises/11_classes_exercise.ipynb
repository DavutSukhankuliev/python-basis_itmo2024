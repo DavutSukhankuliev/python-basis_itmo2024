{
 "cells": [
  {
   "cell_type": "markdown",
   "metadata": {},
   "source": [
    "# 1. Fill the missing pieces of the `Calculator` class\n",
    "Fill `____` pieces of the `Calculator` implemention in order to pass the assertions."
   ]
  },
  {
   "cell_type": "code",
   "execution_count": 1,
   "metadata": {
    "ExecuteTime": {
     "end_time": "2024-03-31T15:19:17.490078200Z",
     "start_time": "2024-03-31T15:19:17.480158600Z"
    }
   },
   "outputs": [],
   "source": [
    "class Calculator:\n",
    "    def __init__(self, var1, var2):\n",
    "        self.var1 = var1\n",
    "        self.var2 = var2\n",
    "\n",
    "    def calculate_power(self):\n",
    "        return self.var1**self.var2\n",
    "\n",
    "    def calculate_sum(self, var3):\n",
    "        return self.var1 + self.var2 + var3"
   ]
  },
  {
   "cell_type": "code",
   "execution_count": 2,
   "metadata": {
    "editable": false,
    "ExecuteTime": {
     "end_time": "2024-03-31T15:19:17.493076300Z",
     "start_time": "2024-03-31T15:19:17.485300800Z"
    }
   },
   "outputs": [],
   "source": [
    "calc = Calculator(2, 3)\n",
    "assert calc.calculate_power() == 8\n",
    "assert calc.calculate_sum(4) == 9"
   ]
  },
  {
   "cell_type": "markdown",
   "metadata": {},
   "source": [
    "# 2. Finalize `StringManipulator` class\n",
    "Fill `____` pieces and create implementation for `stripped_title()`."
   ]
  },
  {
   "cell_type": "code",
   "execution_count": 7,
   "metadata": {
    "ExecuteTime": {
     "end_time": "2024-03-31T15:24:47.669341100Z",
     "start_time": "2024-03-31T15:24:47.662827800Z"
    }
   },
   "outputs": [],
   "source": [
    "class StringManipulator:\n",
    "    \"\"\"Docstring of StringManipulator\"\"\"\n",
    "    \n",
    "    category = \"Manipulator\"\n",
    "    \n",
    "    def __init__(self, original):\n",
    "        self.string = original\n",
    "        \n",
    "    def reverse_words(self):\n",
    "        words = self.string.split()\n",
    "        self.string = ' '.join(reversed(words))\n",
    "        \n",
    "    def make_title(self):\n",
    "        self.string = self.string.title()\n",
    "        \n",
    "    def get_manipulated(self):\n",
    "        return self.string"
   ]
  },
  {
   "cell_type": "code",
   "execution_count": 8,
   "metadata": {
    "editable": false,
    "ExecuteTime": {
     "end_time": "2024-03-31T15:24:48.018547400Z",
     "start_time": "2024-03-31T15:24:48.013025Z"
    }
   },
   "outputs": [],
   "source": [
    "assert StringManipulator.__doc__ == \"Docstring of StringManipulator\"\n",
    "assert StringManipulator.category == \"Manipulator\"\n",
    "\n",
    "str_manip = StringManipulator(\"cOOL pyThON\")\n",
    "\n",
    "str_manip.reverse_words()\n",
    "assert str_manip.get_manipulated() == \"pyThON cOOL\"\n",
    "\n",
    "str_manip.make_title()\n",
    "assert str_manip.get_manipulated() == \"Python Cool\""
   ]
  },
  {
   "cell_type": "markdown",
   "metadata": {},
   "source": [
    "# 3. Create `Dog` class\n",
    "Create `Dog` class which has the following specification:\n",
    "* Dogs consume their energy by barking and gain energy by sleeping\n",
    "* A fresh `Dog` instance has 10 units of energy\n",
    "* `Dog` has a method `sleep` which gives 2 units of energy\n",
    "* `Dog` has a method `bark` which consumes 1 unit of energy\n",
    "* `Dog` has a method `get_energy` which returns the amount of energy left "
   ]
  },
  {
   "cell_type": "code",
   "execution_count": 9,
   "metadata": {
    "ExecuteTime": {
     "end_time": "2024-03-31T15:27:42.868474600Z",
     "start_time": "2024-03-31T15:27:42.859963Z"
    }
   },
   "outputs": [],
   "source": [
    "class Dog:\n",
    "    \n",
    "    def __init__(self):\n",
    "        self._energy = 10\n",
    "        \n",
    "    def sleep(self):\n",
    "        self._energy += 2\n",
    "    \n",
    "    def bark(self):\n",
    "        self._energy -= 1\n",
    "        \n",
    "    def get_energy(self):\n",
    "        return self._energy"
   ]
  },
  {
   "cell_type": "code",
   "execution_count": 10,
   "metadata": {
    "editable": false,
    "ExecuteTime": {
     "end_time": "2024-03-31T15:27:44.040894300Z",
     "start_time": "2024-03-31T15:27:44.029383300Z"
    }
   },
   "outputs": [],
   "source": [
    "doge = Dog()\n",
    "assert doge.get_energy() == 10\n",
    "\n",
    "doge.bark()\n",
    "doge.bark()\n",
    "doge.bark()\n",
    "assert doge.get_energy() == 7\n",
    "\n",
    "doge.sleep()\n",
    "assert doge.get_energy() == 9\n",
    "\n",
    "another_doge = Dog()\n",
    "assert another_doge.get_energy() == 10"
   ]
  }
 ],
 "metadata": {
  "kernelspec": {
   "display_name": "Python 3 (ipykernel)",
   "language": "python",
   "name": "python3"
  },
  "language_info": {
   "codemirror_mode": {
    "name": "ipython",
    "version": 3
   },
   "file_extension": ".py",
   "mimetype": "text/x-python",
   "name": "python",
   "nbconvert_exporter": "python",
   "pygments_lexer": "ipython3",
   "version": "3.11.0"
  }
 },
 "nbformat": 4,
 "nbformat_minor": 2
}
