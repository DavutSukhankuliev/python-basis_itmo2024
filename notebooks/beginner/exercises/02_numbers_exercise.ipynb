{
 "cells": [
  {
   "cell_type": "markdown",
   "metadata": {},
   "source": [
    "# 1. Creating formulas\n",
    "Write the following mathematical formula in Python:\n",
    "\n",
    "\\begin{align}\n",
    " result = 6a^3 - \\frac{8b^2 }{4c} + 11\n",
    "\\end{align}\n"
   ]
  },
  {
   "cell_type": "code",
   "execution_count": 1,
   "metadata": {
    "editable": false,
    "ExecuteTime": {
     "end_time": "2024-03-31T11:56:37.500264900Z",
     "start_time": "2024-03-31T11:56:37.496106200Z"
    }
   },
   "outputs": [],
   "source": [
    "a = 2\n",
    "b = 3\n",
    "c = 2"
   ]
  },
  {
   "cell_type": "code",
   "execution_count": 2,
   "metadata": {
    "ExecuteTime": {
     "end_time": "2024-03-31T11:56:41.989156800Z",
     "start_time": "2024-03-31T11:56:41.982092400Z"
    }
   },
   "outputs": [],
   "source": [
    "# Your formula here:\n",
    "result = 6*pow(a,3)-(8*pow(b,2))/(4*c)+11"
   ]
  },
  {
   "cell_type": "code",
   "execution_count": 3,
   "metadata": {
    "editable": false,
    "ExecuteTime": {
     "end_time": "2024-03-31T11:56:43.270296800Z",
     "start_time": "2024-03-31T11:56:43.261966900Z"
    }
   },
   "outputs": [],
   "source": [
    "assert result == 50"
   ]
  },
  {
   "cell_type": "markdown",
   "metadata": {},
   "source": [
    "# 2. Floating point pitfalls\n",
    "Show that `0.1 + 0.2 == 0.3`"
   ]
  },
  {
   "cell_type": "code",
   "execution_count": 5,
   "metadata": {
    "ExecuteTime": {
     "end_time": "2024-03-31T11:58:59.095604900Z",
     "start_time": "2024-03-31T11:58:59.087095Z"
    }
   },
   "outputs": [
    {
     "name": "stdout",
     "output_type": "stream",
     "text": [
      "0.1 + 0.2 равно 0.3\n"
     ]
    }
   ],
   "source": [
    "# Your solution here\n",
    "\n",
    "result = 0.1 + 0.2\n",
    "expected = 0.3\n",
    "epsilon = 1e-10\n",
    "\n",
    "if abs(result - expected) < epsilon:\n",
    "    print(\"0.1 + 0.2 равно 0.3\")\n",
    "else:\n",
    "    print(\"0.1 + 0.2 не равно 0.3\")\n",
    "\n",
    "# This won't work:\n",
    "# assert 0.1 + 0.2 == 0.3"
   ]
  }
 ],
 "metadata": {
  "kernelspec": {
   "display_name": "Python 3",
   "language": "python",
   "name": "python3"
  },
  "language_info": {
   "codemirror_mode": {
    "name": "ipython",
    "version": 3
   },
   "file_extension": ".py",
   "mimetype": "text/x-python",
   "name": "python",
   "nbconvert_exporter": "python",
   "pygments_lexer": "ipython3",
   "version": "3.5.4"
  }
 },
 "nbformat": 4,
 "nbformat_minor": 2
}
